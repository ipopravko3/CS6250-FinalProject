{
 "cells": [
  {
   "cell_type": "code",
   "execution_count": 2,
   "metadata": {},
   "outputs": [],
   "source": [
    "import pandas as pd\n",
    "from recordlinkage.datasets import load_febrl3, load_febrl4"
   ]
  },
  {
   "attachments": {},
   "cell_type": "markdown",
   "metadata": {},
   "source": [
    "Load FEBRL"
   ]
  },
  {
   "cell_type": "code",
   "execution_count": 13,
   "metadata": {},
   "outputs": [
    {
     "name": "stderr",
     "output_type": "stream",
     "text": [
      "/tmp/ipykernel_2007/1896272727.py:9: FutureWarning: The frame.append method is deprecated and will be removed from pandas in a future version. Use pandas.concat instead.\n",
      "  df_febrl4 = df_febrl4_a.append(df_febrl4_b)  # use for load_febrl4\n"
     ]
    }
   ],
   "source": [
    "PATH_DATA = \"../data/\"\n",
    "\n",
    "# FEBRL 3 loading\n",
    "df_febrl3, links_febrl3 = load_febrl3(return_links=True)  # use this for load_febrl4\n",
    "FILE_NAME_FEBRL3 = \"febrl3_reproduced.csv\"\n",
    "\n",
    "# FEBRL 4 loading\n",
    "df_febrl4_a, df_febrl4_b, links_febrl4 = load_febrl4(return_links=True)\n",
    "df_febrl4 = df_febrl4_a.append(df_febrl4_b)  # use for load_febrl4\n",
    "FILE_NAME_FEBRL4 = \"febrl4_reproduced.csv\"\n",
    "\n",
    "PATH_FEBRL3 = PATH_DATA + FILE_NAME_FEBRL3\n",
    "PATH_FEBRL4 = PATH_DATA + FILE_NAME_FEBRL4"
   ]
  },
  {
   "attachments": {},
   "cell_type": "markdown",
   "metadata": {},
   "source": [
    "Preprocess FEBRL"
   ]
  },
  {
   "cell_type": "code",
   "execution_count": 14,
   "metadata": {},
   "outputs": [],
   "source": [
    "def febrl_preprocess(df_febrl, links_febrl):\n",
    "    df_febrl[\"date_of_birth\"] = pd.to_datetime(df_febrl[\"date_of_birth\"], errors=\"coerce\")\n",
    "    df_febrl[\"day\"] = df_febrl[\"date_of_birth\"].dt.strftime(\"%d\")\n",
    "    df_febrl[\"month\"] = df_febrl[\"date_of_birth\"].dt.strftime(\"%m\")\n",
    "    df_febrl[\"year\"] = df_febrl[\"date_of_birth\"].dt.strftime(\"%Y\")\n",
    "\n",
    "    df_febrl[\"postcode\"] = df_febrl[\"postcode\"].fillna(\"0000\")\n",
    "    df_febrl[\"postcode\"] = df_febrl[\"postcode\"].astype(int)\n",
    "\n",
    "    df_febrl[\"street_number\"] = df_febrl[\"street_number\"].fillna(\"0\")\n",
    "    df_febrl[\"street_number\"] = df_febrl[\"street_number\"].astype(int)\n",
    "\n",
    "    df_febrl = df_febrl.drop([\"soc_sec_id\", \"date_of_birth\"], axis=1)\n",
    "\n",
    "    for col in [\"surname\", \"given_name\", \"address_1\", \"address_2\", \"day\", \"month\"]:\n",
    "        df_febrl[col] = df_febrl[col].fillna(\"\")\n",
    "        df_febrl[col] = df_febrl[col].astype(str)\n",
    "\n",
    "    df_febrl[\"match_id\"] = [-1] * len(df_febrl)\n",
    "\n",
    "    for i in range(len(links_febrl)):\n",
    "        k0 = links_febrl[i][0]\n",
    "        k1 = links_febrl[i][1]\n",
    "        df_febrl.loc[k0, \"match_id\"] = i\n",
    "        df_febrl.loc[k1, \"match_id\"] = i\n",
    "\n",
    "    return df_febrl"
   ]
  },
  {
   "attachments": {},
   "cell_type": "markdown",
   "metadata": {},
   "source": [
    "Save FEBRL to csv"
   ]
  },
  {
   "cell_type": "code",
   "execution_count": 15,
   "metadata": {},
   "outputs": [],
   "source": [
    "df_febrl3_preprocessed = febrl_preprocess(df_febrl3, links_febrl3)\n",
    "df_febrl3_preprocessed.to_csv(PATH_FEBRL3, index=True)\n",
    "\n",
    "df_febrl4_preprocessed = febrl_preprocess(df_febrl4, links_febrl4)\n",
    "df_febrl4_preprocessed.to_csv(PATH_FEBRL4, index=True)"
   ]
  }
 ],
 "metadata": {
  "kernelspec": {
   "display_name": "Python 3",
   "language": "python",
   "name": "python3"
  },
  "language_info": {
   "codemirror_mode": {
    "name": "ipython",
    "version": 3
   },
   "file_extension": ".py",
   "mimetype": "text/x-python",
   "name": "python",
   "nbconvert_exporter": "python",
   "pygments_lexer": "ipython3",
   "version": "3.9.16"
  },
  "orig_nbformat": 4
 },
 "nbformat": 4,
 "nbformat_minor": 2
}
